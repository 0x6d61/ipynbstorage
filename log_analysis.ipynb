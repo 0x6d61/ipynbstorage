{
  "nbformat": 4,
  "nbformat_minor": 0,
  "metadata": {
    "colab": {
      "name": "log_analysis.ipynb",
      "provenance": [],
      "authorship_tag": "ABX9TyO2Z00KIQxrQ2oEEC5TpWrO",
      "include_colab_link": true
    },
    "kernelspec": {
      "name": "python3",
      "display_name": "Python 3"
    },
    "language_info": {
      "name": "python"
    }
  },
  "cells": [
    {
      "cell_type": "markdown",
      "metadata": {
        "id": "view-in-github",
        "colab_type": "text"
      },
      "source": [
        "<a href=\"https://colab.research.google.com/github/0x6d61/ipynbstorage/blob/master/log_analysis.ipynb\" target=\"_parent\"><img src=\"https://colab.research.google.com/assets/colab-badge.svg\" alt=\"Open In Colab\"/></a>"
      ]
    },
    {
      "cell_type": "code",
      "metadata": {
        "colab": {
          "base_uri": "https://localhost:8080/"
        },
        "id": "R4FOwD2dRfoZ",
        "outputId": "5093ae87-1e9c-422b-d4a1-ac64fad7d47c"
      },
      "source": [
        "!wget https://raw.githubusercontent.com/Morzeux/HttpParamsDataset/master/payload_full.csv\n"
      ],
      "execution_count": null,
      "outputs": [
        {
          "output_type": "stream",
          "name": "stdout",
          "text": [
            "--2021-10-12 23:21:15--  https://raw.githubusercontent.com/Morzeux/HttpParamsDataset/master/payload_full.csv\n",
            "Resolving raw.githubusercontent.com (raw.githubusercontent.com)... 185.199.111.133, 185.199.110.133, 185.199.109.133, ...\n",
            "Connecting to raw.githubusercontent.com (raw.githubusercontent.com)|185.199.111.133|:443... connected.\n",
            "HTTP request sent, awaiting response... 200 OK\n",
            "Length: 1996540 (1.9M) [text/plain]\n",
            "Saving to: ‘payload_full.csv.27’\n",
            "\n",
            "payload_full.csv.27 100%[===================>]   1.90M  --.-KB/s    in 0.07s   \n",
            "\n",
            "2021-10-12 23:21:16 (25.8 MB/s) - ‘payload_full.csv.27’ saved [1996540/1996540]\n",
            "\n"
          ]
        }
      ]
    },
    {
      "cell_type": "code",
      "metadata": {
        "id": "JpI-fefQRm_6"
      },
      "source": [
        "import pandas as pd\n",
        "import numpy as np\n",
        "import re\n",
        "from sklearn import tree\n",
        "from sklearn.ensemble import RandomForestClassifier\n",
        "from sklearn.feature_extraction import DictVectorizer\n",
        "from sklearn.preprocessing import MinMaxScaler\n",
        "from sklearn.model_selection import train_test_split\n",
        "import matplotlib.pyplot as plt\n",
        "from sklearn import metrics\n",
        "\n",
        "#classifier = tree.DecisionTreeClassifier(max_depth=10,min_samples_leaf=5)\n",
        "classifier = RandomForestClassifier()\n",
        "vectorizer = DictVectorizer(sparse=False)\n",
        "\n",
        "csv = pd.read_csv('payload_full.csv',sep=\",\")\n",
        "X = csv.payload.values\n",
        "y = [0 if v == \"norm\" else 1 for v in csv.label.values] "
      ],
      "execution_count": null,
      "outputs": []
    },
    {
      "cell_type": "code",
      "metadata": {
        "id": "p-EZtH8zUQF6"
      },
      "source": [
        "def symbol_analysis(log):\n",
        "  lst = list(log)\n",
        "  data = dict()\n",
        "  data[\"less_than_sign\"] = len([v for v in lst if v == \"<\"])\n",
        "  #data[\"greater_than_sign\"] = len([v for v in lst if v == \">\"])\n",
        "  data[\"left_parenthesis\"] = len([v for v in lst if v == \"(\"])\n",
        "  #data[\"right_parenthesis\"] = len([v for v in lst if v== \")\"])\n",
        "  data[\"space\"] = len([v for v in lst if v == \" \" ])\n",
        "  data[\"solidus\"] = len([v for v in lst if v == \"/\"])\n",
        "  data[\"semicolon\"] = len([v for v in lst if v == \";\" ])\n",
        "  data[\"full_stop\"] = len([v for v in lst if v == \".\"])\n",
        "  data[\"quotation_mark\"] = len([v for v in lst if v == '\"'])\n",
        "  data[\"apostrophe\"] = len([v for v in lst if v == \"'\"])\n",
        "  data[\"question_mark\"] = len([v for v in lst if v == \"?\"])\n",
        "  data[\"number_sign\"] = len([v for v in lst if v == \"#\"])\n",
        "  data[\"percent_sign\"] = len([v for v in lst if v == '%'])\n",
        "  data[\"symbol_num\"] =  sum([i for i in data.values()])\n",
        "  data[\"double_full_stop\"] = len(re.findall('(\\.\\.)+',log))\n",
        "  return data"
      ],
      "execution_count": null,
      "outputs": []
    },
    {
      "cell_type": "code",
      "metadata": {
        "id": "6TejNlUEWGtx",
        "colab": {
          "base_uri": "https://localhost:8080/"
        },
        "outputId": "5b645abf-cad8-42a7-93e5-52219491b623"
      },
      "source": [
        "X = [symbol_analysis(str(x)) for x in X]\n",
        "vectorizer.fit(X)\n",
        "X = vectorizer.transform(X)\n",
        "mmscaler = MinMaxScaler(feature_range=(0, 1), copy=True)\n",
        "mmscaler.fit(X)\n",
        "X = mmscaler.transform(X)\n",
        "X_train,X_test,y_train,y_test = train_test_split(X,y,random_state=0,stratify=y) \n",
        "classifier.fit(X_train,y_train)\n",
        "#scores = classifier.predict_proba(X_test)[:,1]\n",
        "classifier.score(X_test,y_test)"
      ],
      "execution_count": null,
      "outputs": [
        {
          "output_type": "execute_result",
          "data": {
            "text/plain": [
              "0.9915025106218617"
            ]
          },
          "metadata": {},
          "execution_count": 257
        }
      ]
    },
    {
      "cell_type": "code",
      "metadata": {
        "colab": {
          "base_uri": "https://localhost:8080/"
        },
        "id": "hI6OgWRbmCo1",
        "outputId": "60143525-bac3-460b-a1f6-e05477700bdd"
      },
      "source": [
        "classifier.predict_proba(mmscaler.transform(vectorizer.transform([symbol_analysis(\"1') and elt(1=1,7259) and ('bkag'='bkag\")])))[:,1]"
      ],
      "execution_count": null,
      "outputs": [
        {
          "output_type": "execute_result",
          "data": {
            "text/plain": [
              "array([1.])"
            ]
          },
          "metadata": {},
          "execution_count": 260
        }
      ]
    }
  ]
}