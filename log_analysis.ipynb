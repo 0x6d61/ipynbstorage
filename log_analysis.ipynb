{
  "nbformat": 4,
  "nbformat_minor": 0,
  "metadata": {
    "colab": {
      "name": "log_analysis.ipynb",
      "provenance": [],
      "authorship_tag": "ABX9TyMm94pn2gxIi0TEALGhgKWy",
      "include_colab_link": true
    },
    "kernelspec": {
      "name": "python3",
      "display_name": "Python 3"
    },
    "language_info": {
      "name": "python"
    }
  },
  "cells": [
    {
      "cell_type": "markdown",
      "metadata": {
        "id": "view-in-github",
        "colab_type": "text"
      },
      "source": [
        "<a href=\"https://colab.research.google.com/github/0x6d61/ipynbstorage/blob/master/log_analysis.ipynb\" target=\"_parent\"><img src=\"https://colab.research.google.com/assets/colab-badge.svg\" alt=\"Open In Colab\"/></a>"
      ]
    },
    {
      "cell_type": "code",
      "metadata": {
        "colab": {
          "base_uri": "https://localhost:8080/"
        },
        "id": "R4FOwD2dRfoZ",
        "outputId": "901878d2-e8f6-44c2-b5e8-ae57d17032a8"
      },
      "source": [
        "!wget https://raw.githubusercontent.com/Morzeux/HttpParamsDataset/master/payload_full.csv\n"
      ],
      "execution_count": 141,
      "outputs": [
        {
          "output_type": "stream",
          "name": "stdout",
          "text": [
            "--2021-10-16 23:50:27--  https://raw.githubusercontent.com/Morzeux/HttpParamsDataset/master/payload_full.csv\n",
            "Resolving raw.githubusercontent.com (raw.githubusercontent.com)... 185.199.108.133, 185.199.109.133, 185.199.110.133, ...\n",
            "Connecting to raw.githubusercontent.com (raw.githubusercontent.com)|185.199.108.133|:443... connected.\n",
            "HTTP request sent, awaiting response... 200 OK\n",
            "Length: 1996540 (1.9M) [text/plain]\n",
            "Saving to: ‘payload_full.csv.28’\n",
            "\n",
            "payload_full.csv.28 100%[===================>]   1.90M  --.-KB/s    in 0.04s   \n",
            "\n",
            "2021-10-16 23:50:27 (48.5 MB/s) - ‘payload_full.csv.28’ saved [1996540/1996540]\n",
            "\n"
          ]
        }
      ]
    },
    {
      "cell_type": "code",
      "metadata": {
        "id": "JpI-fefQRm_6"
      },
      "source": [
        "import pandas as pd\n",
        "import numpy as np\n",
        "import re\n",
        "from sklearn import tree\n",
        "from sklearn.ensemble import RandomForestClassifier\n",
        "from sklearn.naive_bayes import MultinomialNB\n",
        "from sklearn.feature_extraction import DictVectorizer\n",
        "from sklearn.preprocessing import MinMaxScaler\n",
        "from sklearn.model_selection import train_test_split,GridSearchCV\n",
        "\n",
        "classifier =  RandomForestClassifier(random_state=0,criterion=\"gini\",max_depth=11,n_estimators=500)\n",
        "vectorizer = DictVectorizer(sparse=False)\n",
        "\n",
        "csv = pd.read_csv('payload_full.csv',sep=\",\")\n",
        "X = csv.payload.values\n",
        "y = [0 if v == \"norm\" else 1 for v in csv.label.values] "
      ],
      "execution_count": 142,
      "outputs": []
    },
    {
      "cell_type": "code",
      "metadata": {
        "id": "p-EZtH8zUQF6"
      },
      "source": [
        "def symbol_analysis(log):\n",
        "  lst = list(log)\n",
        "  data = dict()\n",
        "  data[\"less_than_sign\"] = len([v for v in lst if v == \"<\"])\n",
        "  data[\"left_parenthesis\"] = len([v for v in lst if v == \"(\"])\n",
        "  data[\"space\"] = len([v for v in lst if v == \" \" ])\n",
        "  #data[\"solidus\"] = len([v for v in lst if v == \"/\"])\n",
        "  data[\"semicolon\"] = len([v for v in lst if v == \";\" ])\n",
        "  data[\"full_stop\"] = len([v for v in lst if v == \".\"])\n",
        "  data[\"quotation_mark\"] = len([v for v in lst if v == '\"'])\n",
        "  data[\"apostrophe\"] = len([v for v in lst if v == \"'\"])\n",
        "  data[\"question_mark\"] = len([v for v in lst if v == \"?\"])\n",
        "  data[\"number_sign\"] = len([v for v in lst if v == \"#\"])\n",
        "  data[\"percent_sign\"] = len([v for v in lst if v == '%'])\n",
        "  data[\"symbol_num\"] =  sum([i for i in data.values()])\n",
        "  data[\"double_full_stop\"] = len(re.findall('(\\.\\.)+',log))\n",
        "  return data"
      ],
      "execution_count": 143,
      "outputs": []
    },
    {
      "cell_type": "code",
      "metadata": {
        "id": "6TejNlUEWGtx",
        "colab": {
          "base_uri": "https://localhost:8080/"
        },
        "outputId": "da5c3f6c-f044-4053-856f-6cbe18500da4"
      },
      "source": [
        "X = [symbol_analysis(str(x)) for x in X]\n",
        "vectorizer.fit(X)\n",
        "X = vectorizer.transform(X)\n",
        "mmscaler = MinMaxScaler(feature_range=(0, 1), copy=True)\n",
        "mmscaler.fit(X)\n",
        "X = mmscaler.transform(X)\n",
        "X_train,X_test,y_train,y_test = train_test_split(X,y,shuffle=True) \n",
        "classifier.fit(X_train,y_train)\n",
        "#scores = classifier.predict_proba(X_test)[:,1]\n",
        "print(classifier.score(X_train,y_train))\n",
        "print(classifier.score(X_test,y_test))"
      ],
      "execution_count": 144,
      "outputs": [
        {
          "output_type": "stream",
          "name": "stdout",
          "text": [
            "0.9882403433476394\n",
            "0.9877687652890433\n"
          ]
        }
      ]
    },
    {
      "cell_type": "code",
      "metadata": {
        "colab": {
          "base_uri": "https://localhost:8080/"
        },
        "id": "hI6OgWRbmCo1",
        "outputId": "787cbc15-a96e-4d7a-b03a-dfe284bc7f35"
      },
      "source": [
        "classifier.predict_proba(vectorizer.transform([symbol_analysis('/passwd')]))[:,1]"
      ],
      "execution_count": 145,
      "outputs": [
        {
          "output_type": "execute_result",
          "data": {
            "text/plain": [
              "array([0.00628121])"
            ]
          },
          "metadata": {},
          "execution_count": 145
        }
      ]
    }
  ]
}